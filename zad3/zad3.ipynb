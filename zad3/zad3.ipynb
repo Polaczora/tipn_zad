{
 "cells": [
  {
   "cell_type": "markdown",
   "metadata": {},
   "source": [
    "## moje dzielo\n",
    "\n",
    "To dzielo bedzie zawierac moje oceny w semestrze zimowym 2018/19. Notebook bedzie liczyc srednia ze wszystkich przedmiotow w tym semestrze."
   ]
  },
  {
   "cell_type": "code",
   "execution_count": 1,
   "metadata": {},
   "outputs": [],
   "source": [
    "metodologia = 5.0\n",
    "ogolna = 4.5\n",
    "wf = 5.0\n",
    "informatyka = 4.0\n",
    "biologiczne = 4.0\n",
    "filozofia = 5.0\n",
    "anatomia = 4.5\n",
    "komunikacja = 5.0\n",
    "trening = 5.0\n",
    "angielski = 5.0"
   ]
  },
  {
   "cell_type": "code",
   "execution_count": 2,
   "metadata": {},
   "outputs": [],
   "source": [
    "suma = metodologia + ogolna + wf + informatyka + biologiczne + filozofia + anatomia + komunikacja + trening + angielski"
   ]
  },
  {
   "cell_type": "code",
   "execution_count": 9,
   "metadata": {},
   "outputs": [],
   "source": [
    "srednia = suma / 10"
   ]
  },
  {
   "cell_type": "code",
   "execution_count": 11,
   "metadata": {},
   "outputs": [
    {
     "name": "stdout",
     "output_type": "stream",
     "text": [
      "Moja srednia w pierwszym semestrze studiow to4.7\n"
     ]
    }
   ],
   "source": [
    "print(\"Moja srednia w pierwszym semestrze studiow to\" + str( srednia ))\n",
    "\n",
    "\n"
   ]
  },
  {
   "cell_type": "code",
   "execution_count": null,
   "metadata": {},
   "outputs": [],
   "source": []
  }
 ],
 "metadata": {
  "kernelspec": {
   "display_name": "Python 3",
   "language": "python",
   "name": "python3"
  },
  "language_info": {
   "codemirror_mode": {
    "name": "ipython",
    "version": 3
   },
   "file_extension": ".py",
   "mimetype": "text/x-python",
   "name": "python",
   "nbconvert_exporter": "python",
   "pygments_lexer": "ipython3",
   "version": "3.7.0"
  }
 },
 "nbformat": 4,
 "nbformat_minor": 2
}
