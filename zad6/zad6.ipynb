{
 "cells": [
  {
   "cell_type": "code",
   "execution_count": null,
   "metadata": {},
   "outputs": [
    {
     "name": "stdout",
     "output_type": "stream",
     "text": [
      " Czy zgadzasz sie ze stwierdzeniem: ze Psy sa lepsze od kotow?\n"
     ]
    }
   ],
   "source": [
    "a = \" Czy zgadzasz sie ze stwierdzeniem: ze Psy sa lepsze od kotow?\"\n",
    "b = \" Czy zgadzasz sie ze stwierdzeniem: ze ludzie biedniejsi sa smutniejsi\"\n",
    "c = \" Czy zgadzasz sie ze stwierdzeniem: ze praca kosmonauty jest niebezpieczna?\"\n",
    "d = \" Czy zgadzasz sie ze stwierdzeniem: ze zadna praca nie hanbi?\"\n",
    "e = \" Czy zgadzasz sie ze stwierdzeniem: ze nauka jest kluczem do sukcesu? \"\n",
    "punkty = []\n",
    "\n",
    "def test(os):\n",
    "    \n",
    "    listapytan = [a, b, c, d, e]\n",
    "\n",
    "def zadajpytanie(a):\n",
    "    \n",
    "        print(a)\n",
    "        ax = input(\"1 oznacza: zupelnie sie nie zgadzam, 5 oznacza: calkowicie sie zgadzam: \")\n",
    "        ax = int(ax)\n",
    "        if ax>5 or ax<1:\n",
    "            print(\"Wpisalas/es zla liczbe. Zacznij od nowa.\")\n",
    "        else:\n",
    "            return ax\n",
    "        \n",
    "pkt = zadajpytanie(a)\n",
    "punkty.append(pkt)\n",
    "pkt = zadajpytanie(b)\n",
    "punkty.append(pkt)\n",
    "pkt = zadajpytanie(c)\n",
    "punkty.append(pkt)\n",
    "pkt = zadajpytanie(d)\n",
    "punkty.append(pkt)\n",
    "pkt = zadajpytanie(e)\n",
    "punkty.append(pkt)\n",
    "wynik = sum(punkty)\n",
    "wynik = int(wynik)\n",
    "if wynik >5 and wynik <10:\n",
    "    print(\"Twoj wynik to\", wynik, \".\", \"Przeciez psy sa najlepszymi przyjacielami czlowieka! Koty sa wredne! Sprobuj pojsc do schroniska dla psow, moze znajdziesz nowego, lepszego puila\")\n",
    "elif wynik == 5 :\n",
    "    print(\"Twoj wynik to\", wynik, \".\", \"Za pieniadze nie moza przeciez kupic szczescia! Przemysl to.\")\n",
    "elif wynik >= 10 and wynik < 15:\n",
    "    print(\"Twoj wynik to\", wynik, \".\", \"Sa niebezpieczniejsze prace niz ta, ale bywaje tez bezpieczniejsze.\")\n",
    "elif wynik >=15 and wynik < 20:\n",
    "    print(\"Twoj wynik to\", wynik, \".\", \"Zgadzam sie z toba w stu procentach!\")\n",
    "elif wynik >=20 and wynik < 25:\n",
    "    print(\"Twoj wynik to\", wynik, \".\", \"Dobry wybor, oby tak dalej, a bedziesz najmadrzejszy na swiecie!\")\n",
    "elif wynik == 25:\n",
    "    print(\"Twoj wynik to\", wynik, \".\", \"Jestes wspanialym, madrym i ostroznym czlowiekiem!\")\n",
    "\n",
    "if wynik > 0:\n",
    "    punkty.pop(0)\n",
    "    punkty.pop(0)\n",
    "    punkty.pop(0)\n",
    "    punkty.pop(0)\n",
    "    punkty.pop(0)\n",
    "else:\n",
    "    print(\"Bardzo dziekuje za wypelnienie testu!\")"
   ]
  },
  {
   "cell_type": "code",
   "execution_count": null,
   "metadata": {},
   "outputs": [],
   "source": []
  }
 ],
 "metadata": {
  "kernelspec": {
   "display_name": "Python 3",
   "language": "python",
   "name": "python3"
  },
  "language_info": {
   "codemirror_mode": {
    "name": "ipython",
    "version": 3
   },
   "file_extension": ".py",
   "mimetype": "text/x-python",
   "name": "python",
   "nbconvert_exporter": "python",
   "pygments_lexer": "ipython3",
   "version": "3.7.0"
  }
 },
 "nbformat": 4,
 "nbformat_minor": 2
}
