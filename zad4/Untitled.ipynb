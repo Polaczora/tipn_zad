{
 "cells": [
  {
   "cell_type": "markdown",
   "metadata": {},
   "source": [
    "while warunek_logiczny:\n",
    "    #to wszytsko dokonuje sie do momentu gdy warunek = True"
   ]
  },
  {
   "cell_type": "markdown",
   "metadata": {},
   "source": [
    "zadanie: wyświetl wszystkie potęgi 2 od $2^0$ aż po $2^100$"
   ]
  },
  {
   "cell_type": "code",
   "execution_count": 10,
   "metadata": {},
   "outputs": [
    {
     "name": "stdout",
     "output_type": "stream",
     "text": [
      "2 do 0 = 1\n",
      "2 do 1 = 2\n",
      "2 do 2 = 4\n",
      "2 do 3 = 8\n",
      "2 do 4 = 16\n",
      "2 do 5 = 32\n",
      "2 do 6 = 64\n"
     ]
    }
   ],
   "source": [
    "licznik = 0\n",
    "\n",
    "while licznik <=6:\n",
    "    print('2 do', licznik, '=', 2 ** licznik)\n",
    "    licznik = licznik + 1 #mozna to tez zapisac w postaci licznik+=1"
   ]
  },
  {
   "cell_type": "code",
   "execution_count": 8,
   "metadata": {},
   "outputs": [
    {
     "data": {
      "text/plain": [
       "9"
      ]
     },
     "execution_count": 8,
     "metadata": {},
     "output_type": "execute_result"
    }
   ],
   "source": [
    "len(str(2**27)) # z ilu cyfr sklada sie liczba 2 do 27??"
   ]
  },
  {
   "cell_type": "markdown",
   "metadata": {},
   "source": [
    "zadanie: wyświetl wszystkie liczby z przedziału <0,100>, które są podzielne przez 2 lub przez 3"
   ]
  },
  {
   "cell_type": "markdown",
   "metadata": {},
   "source": [
    "iczba = 0 \n",
    "\n",
    "while liczba <= 100:\n",
    "    print(liczba)\n",
    "    # liczba +=1"
   ]
  },
  {
   "cell_type": "code",
   "execution_count": 18,
   "metadata": {},
   "outputs": [
    {
     "name": "stdout",
     "output_type": "stream",
     "text": [
      "0\n",
      "2\n",
      "3\n",
      "4\n",
      "6\n",
      "8\n",
      "9\n",
      "10\n",
      "12\n",
      "14\n",
      "15\n",
      "16\n",
      "18\n",
      "20\n",
      "21\n",
      "22\n",
      "24\n",
      "26\n",
      "27\n",
      "28\n",
      "30\n",
      "32\n",
      "33\n",
      "34\n",
      "36\n",
      "38\n",
      "39\n",
      "40\n",
      "42\n",
      "44\n",
      "45\n",
      "46\n",
      "48\n",
      "50\n",
      "51\n",
      "52\n",
      "54\n",
      "56\n",
      "57\n",
      "58\n",
      "60\n",
      "62\n",
      "63\n",
      "64\n",
      "66\n",
      "68\n",
      "69\n",
      "70\n",
      "72\n",
      "74\n",
      "75\n",
      "76\n",
      "78\n",
      "80\n",
      "81\n",
      "82\n",
      "84\n",
      "86\n",
      "87\n",
      "88\n",
      "90\n",
      "92\n",
      "93\n",
      "94\n",
      "96\n",
      "98\n",
      "99\n",
      "100\n"
     ]
    }
   ],
   "source": [
    "liczba = 0\n",
    "\n",
    "while liczba <= 100:\n",
    "    if liczba % 2 == 0 or liczba % 3 == 0:\n",
    "        print(liczba)\n",
    "    liczba += 1"
   ]
  },
  {
   "cell_type": "code",
   "execution_count": 20,
   "metadata": {},
   "outputs": [
    {
     "name": "stdin",
     "output_type": "stream",
     "text": [
      "Podaj hasło: marakuja\n"
     ]
    },
    {
     "name": "stdout",
     "output_type": "stream",
     "text": [
      "Śmiechom nie było końca.\n"
     ]
    }
   ],
   "source": [
    "dobre_haslo = 'marakuja'\n",
    "tajna_wiadomosc = 'Śmiechom nie było końca.'\n",
    "\n",
    "haslo = input(\"Podaj hasło:\")\n",
    "\n",
    "if haslo == dobre_haslo:\n",
    "    print(tajna_wiadomosc)\n",
    "else:\n",
    "    print('Złe hasło.')"
   ]
  },
  {
   "cell_type": "code",
   "execution_count": 22,
   "metadata": {},
   "outputs": [
    {
     "name": "stdin",
     "output_type": "stream",
     "text": [
      "Podaj hasło: uhuish\n"
     ]
    },
    {
     "name": "stdout",
     "output_type": "stream",
     "text": [
      "Złe hasło\n"
     ]
    },
    {
     "name": "stdin",
     "output_type": "stream",
     "text": [
      "Podaj hasło: vuih\n"
     ]
    },
    {
     "name": "stdout",
     "output_type": "stream",
     "text": [
      "Złe hasło\n"
     ]
    },
    {
     "name": "stdin",
     "output_type": "stream",
     "text": [
      "Podaj hasło: marakuja\n"
     ]
    },
    {
     "name": "stdout",
     "output_type": "stream",
     "text": [
      "Śmiechom nie było końca.\n"
     ]
    }
   ],
   "source": [
    "dobre_haslo = 'marakuja'\n",
    "tajna_wiadomosc = 'Śmiechom nie było końca.'\n",
    "\n",
    "haslo = input(\"Podaj hasło:\")\n",
    "\n",
    "while haslo != dobre_haslo:\n",
    "    print('Złe hasło')\n",
    "    haslo = input(\"Podaj hasło:\")\n",
    "print(tajna_wiadomosc)"
   ]
  },
  {
   "cell_type": "code",
   "execution_count": 23,
   "metadata": {},
   "outputs": [],
   "source": [
    "imiona = ['Kasia', 'Ewa', 'Marta', 'Maja', 'Zosia']\n"
   ]
  },
  {
   "cell_type": "code",
   "execution_count": 24,
   "metadata": {},
   "outputs": [
    {
     "data": {
      "text/plain": [
       "['Kasia', 'Ewa', 'Marta', 'Maja', 'Zosia']"
      ]
     },
     "execution_count": 24,
     "metadata": {},
     "output_type": "execute_result"
    }
   ],
   "source": [
    "imiona"
   ]
  },
  {
   "cell_type": "code",
   "execution_count": 26,
   "metadata": {},
   "outputs": [
    {
     "data": {
      "text/plain": [
       "'Ewa Nowak '"
      ]
     },
     "execution_count": 26,
     "metadata": {},
     "output_type": "execute_result"
    }
   ],
   "source": [
    "imiona[1] + ' Nowak '"
   ]
  },
  {
   "cell_type": "code",
   "execution_count": 27,
   "metadata": {},
   "outputs": [
    {
     "name": "stdout",
     "output_type": "stream",
     "text": [
      "Kasia Nowak\n",
      "Ewa Nowak\n",
      "Marta Nowak\n",
      "Maja Nowak\n",
      "Zosia Nowak\n"
     ]
    }
   ],
   "source": [
    "for i in imiona:\n",
    "    print(i + ' Nowak')"
   ]
  },
  {
   "cell_type": "code",
   "execution_count": 28,
   "metadata": {},
   "outputs": [
    {
     "data": {
      "text/plain": [
       "['Kasia', 'Ewa', 'Marta', 'Maja', 'Zosia']"
      ]
     },
     "execution_count": 28,
     "metadata": {},
     "output_type": "execute_result"
    }
   ],
   "source": [
    "imiona"
   ]
  },
  {
   "cell_type": "code",
   "execution_count": 30,
   "metadata": {},
   "outputs": [],
   "source": [
    "imiona_nazwiska = []\n",
    "\n",
    "for imie in imiona:\n",
    "    imiona_nazwiska.append(imie + ' Nowak')\n"
   ]
  },
  {
   "cell_type": "code",
   "execution_count": 31,
   "metadata": {},
   "outputs": [
    {
     "data": {
      "text/plain": [
       "['Kasia Nowak', 'Ewa Nowak', 'Marta Nowak', 'Maja Nowak', 'Zosia Nowak']"
      ]
     },
     "execution_count": 31,
     "metadata": {},
     "output_type": "execute_result"
    }
   ],
   "source": [
    "imiona_nazwiska"
   ]
  },
  {
   "cell_type": "code",
   "execution_count": 32,
   "metadata": {},
   "outputs": [
    {
     "data": {
      "text/plain": [
       "['Kasia', 'Ewa', 'Marta', 'Maja', 'Zosia']"
      ]
     },
     "execution_count": 32,
     "metadata": {},
     "output_type": "execute_result"
    }
   ],
   "source": [
    "imiona"
   ]
  },
  {
   "cell_type": "code",
   "execution_count": 33,
   "metadata": {},
   "outputs": [
    {
     "data": {
      "text/plain": [
       "5"
      ]
     },
     "execution_count": 33,
     "metadata": {},
     "output_type": "execute_result"
    }
   ],
   "source": [
    "len(\"kasia\")"
   ]
  },
  {
   "cell_type": "code",
   "execution_count": 34,
   "metadata": {},
   "outputs": [
    {
     "data": {
      "text/plain": [
       "3"
      ]
     },
     "execution_count": 34,
     "metadata": {},
     "output_type": "execute_result"
    }
   ],
   "source": [
    "len(\"Ewa\")"
   ]
  },
  {
   "cell_type": "code",
   "execution_count": 35,
   "metadata": {},
   "outputs": [
    {
     "data": {
      "text/plain": [
       "5"
      ]
     },
     "execution_count": 35,
     "metadata": {},
     "output_type": "execute_result"
    }
   ],
   "source": [
    "len(\"Marta\")\n"
   ]
  },
  {
   "cell_type": "code",
   "execution_count": 36,
   "metadata": {},
   "outputs": [
    {
     "data": {
      "text/plain": [
       "4"
      ]
     },
     "execution_count": 36,
     "metadata": {},
     "output_type": "execute_result"
    }
   ],
   "source": [
    "len(\"Maja\")"
   ]
  },
  {
   "cell_type": "code",
   "execution_count": 37,
   "metadata": {},
   "outputs": [
    {
     "data": {
      "text/plain": [
       "5"
      ]
     },
     "execution_count": 37,
     "metadata": {},
     "output_type": "execute_result"
    }
   ],
   "source": [
    "len(\"Zosia\")"
   ]
  },
  {
   "cell_type": "code",
   "execution_count": 38,
   "metadata": {},
   "outputs": [
    {
     "data": {
      "text/plain": [
       "[5, 3, 5, 4, 5]"
      ]
     },
     "execution_count": 38,
     "metadata": {},
     "output_type": "execute_result"
    }
   ],
   "source": [
    "dlugosci = []\n",
    " \n",
    "for i in imiona:\n",
    "    dlugosci.append(len(i))\n",
    "    \n",
    "dlugosci "
   ]
  },
  {
   "cell_type": "code",
   "execution_count": 39,
   "metadata": {},
   "outputs": [
    {
     "data": {
      "text/plain": [
       "4.4"
      ]
     },
     "execution_count": 39,
     "metadata": {},
     "output_type": "execute_result"
    }
   ],
   "source": [
    "import numpy as np \n",
    "\n",
    "np.mean(dlugosci) #srednia"
   ]
  },
  {
   "cell_type": "code",
   "execution_count": 40,
   "metadata": {},
   "outputs": [
    {
     "data": {
      "text/plain": [
       "0.7999999999999999"
      ]
     },
     "execution_count": 40,
     "metadata": {},
     "output_type": "execute_result"
    }
   ],
   "source": [
    "np.std(dlugosci)\n"
   ]
  },
  {
   "cell_type": "code",
   "execution_count": 41,
   "metadata": {},
   "outputs": [
    {
     "data": {
      "text/plain": [
       "4.4"
      ]
     },
     "execution_count": 41,
     "metadata": {},
     "output_type": "execute_result"
    }
   ],
   "source": [
    "sum(dlugosci) / len(dlugosci) #srednia"
   ]
  },
  {
   "cell_type": "code",
   "execution_count": 43,
   "metadata": {},
   "outputs": [],
   "source": [
    "nazwisko = 'Brzęczyszczykiweicz'"
   ]
  },
  {
   "cell_type": "code",
   "execution_count": 44,
   "metadata": {},
   "outputs": [
    {
     "data": {
      "text/plain": [
       "'ęczyszc'"
      ]
     },
     "execution_count": 44,
     "metadata": {},
     "output_type": "execute_result"
    }
   ],
   "source": [
    "nazwisko[3:10]"
   ]
  },
  {
   "cell_type": "code",
   "execution_count": 45,
   "metadata": {},
   "outputs": [
    {
     "data": {
      "text/plain": [
       "'z'"
      ]
     },
     "execution_count": 45,
     "metadata": {},
     "output_type": "execute_result"
    }
   ],
   "source": [
    "nazwisko[-1]"
   ]
  },
  {
   "cell_type": "code",
   "execution_count": 46,
   "metadata": {},
   "outputs": [
    {
     "name": "stdout",
     "output_type": "stream",
     "text": [
      "B\n",
      "r\n",
      "z\n",
      "ę\n",
      "c\n",
      "z\n",
      "y\n",
      "s\n",
      "z\n",
      "c\n",
      "z\n",
      "y\n",
      "k\n",
      "i\n",
      "w\n",
      "e\n",
      "i\n",
      "c\n",
      "z\n"
     ]
    }
   ],
   "source": [
    "for literka in nazwisko:\n",
    "    print(literka)"
   ]
  },
  {
   "cell_type": "code",
   "execution_count": 49,
   "metadata": {},
   "outputs": [
    {
     "data": {
      "text/plain": [
       "5"
      ]
     },
     "execution_count": 49,
     "metadata": {},
     "output_type": "execute_result"
    }
   ],
   "source": [
    "licznik = 0\n",
    "for literka in nazwisko:\n",
    "    if literka == 'z':\n",
    "        licznik += 1\n",
    "        \n",
    "licznik\n"
   ]
  },
  {
   "cell_type": "code",
   "execution_count": null,
   "metadata": {},
   "outputs": [],
   "source": []
  }
 ],
 "metadata": {
  "kernelspec": {
   "display_name": "Python 3",
   "language": "python",
   "name": "python3"
  },
  "language_info": {
   "codemirror_mode": {
    "name": "ipython",
    "version": 3
   },
   "file_extension": ".py",
   "mimetype": "text/x-python",
   "name": "python",
   "nbconvert_exporter": "python",
   "pygments_lexer": "ipython3",
   "version": "3.7.0"
  }
 },
 "nbformat": 4,
 "nbformat_minor": 2
}
